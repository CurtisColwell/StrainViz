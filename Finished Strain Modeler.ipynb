{
 "cells": [
  {
   "cell_type": "markdown",
   "metadata": {},
   "source": [
    "This notebook will be converted into a distributable python script. The script will exist in a distributable file package with the following architecture:\n",
    "\n",
    "```\n",
    "Strain_modeler/  \n",
    "|-- project1/  \n",
    "    |-- geometry/  \n",
    "    |-- dummies/\n",
    "    |-- output/  \n",
    "|-- scripts/\n",
    "|-- README.md\n",
    "```\n",
    "\n",
    "1. The user will create a project folder, add a .xyz geometry of the optimized strained molecule, and as many .out gaussian output files from force calculations as necessary into the input folder.\n",
    "2. A script will compile and average all of the .out files to create .tcl scripts in the output folder.\n",
    "3. The user can then load the .xyz geometry into VMD and run the .tcl scripts to visualize each type of molecular strain."
   ]
  },
  {
   "cell_type": "code",
   "execution_count": 1,
   "metadata": {},
   "outputs": [],
   "source": [
    "from scripts import map_forces, vmd_norm, vmd_writer, force_parse\n",
    "import os"
   ]
  },
  {
   "cell_type": "code",
   "execution_count": 2,
   "metadata": {},
   "outputs": [],
   "source": [
    "for file in os.listdir('geometry'):\n",
    "    if file.endswith(\".xyz\"):\n",
    "        geometry_filename = 'geometry/' + file"
   ]
  },
  {
   "cell_type": "code",
   "execution_count": 3,
   "metadata": {},
   "outputs": [],
   "source": [
    "full_bond_forces = []\n",
    "full_angle_forces = []\n",
    "full_dihedral_forces = []\n",
    "full_key = []\n",
    "for file in os.listdir('dummies'):\n",
    "    if file.endswith(\".out\"):\n",
    "        a, b, c = map_forces(geometry_filename, file)\n",
    "        for line in a:\n",
    "            full_bond_forces.append(line)\n",
    "        for line in b:\n",
    "            full_angle_forces.append(line)\n",
    "        for line in c:\n",
    "            full_dihedral_forces.append(line)"
   ]
  },
  {
   "cell_type": "code",
   "execution_count": 4,
   "metadata": {},
   "outputs": [],
   "source": [
    "full_bond_list = []\n",
    "for line in full_bond_forces:\n",
    "    full_bond_list.append(line[1])"
   ]
  },
  {
   "cell_type": "code",
   "execution_count": 5,
   "metadata": {},
   "outputs": [],
   "source": [
    "bond_list = []\n",
    "for line in full_bond_list:\n",
    "    if line in bond_list:\n",
    "        continue\n",
    "    else:\n",
    "        bond_list.append(line)"
   ]
  },
  {
   "cell_type": "code",
   "execution_count": 6,
   "metadata": {},
   "outputs": [],
   "source": [
    "bond_forces = []\n",
    "for line in bond_list:\n",
    "    bond_forces.append([line])"
   ]
  },
  {
   "cell_type": "code",
   "execution_count": 7,
   "metadata": {},
   "outputs": [],
   "source": [
    "for line in full_bond_forces:\n",
    "    for bond in bond_forces:\n",
    "        if bond[0] == line[1]:\n",
    "            bond.append(line[0])"
   ]
  },
  {
   "cell_type": "code",
   "execution_count": 8,
   "metadata": {},
   "outputs": [],
   "source": [
    "bond_force = []\n",
    "for line in bond_forces:\n",
    "    a = 0\n",
    "    for value in line[1:]:\n",
    "        a += value\n",
    "    b = a/(len(line)-1)\n",
    "    bond_force.append([b, line[0]])"
   ]
  },
  {
   "cell_type": "code",
   "execution_count": 9,
   "metadata": {},
   "outputs": [],
   "source": [
    "bond_force_vmd = vmd_norm(bond_force)"
   ]
  },
  {
   "cell_type": "code",
   "execution_count": 10,
   "metadata": {},
   "outputs": [],
   "source": [
    "vmd_writer(\"vmd_bond_script_total.tcl\", bond_force_vmd, geometry_filename)"
   ]
  },
  {
   "cell_type": "code",
   "execution_count": null,
   "metadata": {},
   "outputs": [],
   "source": []
  }
 ],
 "metadata": {
  "kernelspec": {
   "display_name": "Python 3",
   "language": "python",
   "name": "python3"
  },
  "language_info": {
   "codemirror_mode": {
    "name": "ipython",
    "version": 3
   },
   "file_extension": ".py",
   "mimetype": "text/x-python",
   "name": "python",
   "nbconvert_exporter": "python",
   "pygments_lexer": "ipython3",
   "version": "3.6.4"
  }
 },
 "nbformat": 4,
 "nbformat_minor": 2
}
