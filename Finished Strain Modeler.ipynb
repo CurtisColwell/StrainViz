{
 "cells": [
  {
   "cell_type": "markdown",
   "metadata": {},
   "source": [
    "This notebook will be converted into a distributable python script. The script will exist in a distributable file package with the following architecture:\n",
    "\n",
    "```\n",
    "Strain_modeler/   \n",
    "|-- geometry/  \n",
    "|-- dummies/\n",
    "|-- output/  \n",
    "|-- scripts.py\n",
    "|-- README.md\n",
    "```\n",
    "\n",
    "1. The user will create a geometry folder, add a .xyz geometry of the optimized strained molecule, and as many .out gaussian output files from force calculations as necessary into the dummies folder.\n",
    "2. A script will compile and average all of the .out files to create .tcl scripts in the output folder.\n",
    "3. The user can then run the .tcl scripts in VMD to visualize each type of molecular strain."
   ]
  },
  {
   "cell_type": "code",
   "execution_count": 1,
   "metadata": {},
   "outputs": [],
   "source": [
    "from scripts import get_connectivity_data, get_atom_coords, load_geometry, create_key\n",
    "from bond_scripts import map_forces, combine_dummies\n",
    "from atom_scripts import vmd_vector_writer, atom_force_parse, normalize, map_atom_forces\n",
    "import os"
   ]
  },
  {
   "cell_type": "code",
   "execution_count": 2,
   "metadata": {},
   "outputs": [],
   "source": [
    "for file in os.listdir('geometry'):\n",
    "    if file.endswith(\".xyz\"):\n",
    "        geometry_filename = 'geometry/' + file"
   ]
  },
  {
   "cell_type": "code",
   "execution_count": 3,
   "metadata": {},
   "outputs": [],
   "source": [
    "full_bond_forces = []\n",
    "full_angle_forces = []\n",
    "full_dihedral_forces = []\n",
    "full_key = []\n",
    "for file in os.listdir('dummies'):\n",
    "    if file.endswith(\".out\"):\n",
    "        a, b, c = map_forces(geometry_filename, file)\n",
    "        for line in a:\n",
    "            full_bond_forces.append(line)\n",
    "        for line in b:\n",
    "            full_angle_forces.append(line)\n",
    "        for line in c:\n",
    "            full_dihedral_forces.append(line)"
   ]
  },
  {
   "cell_type": "code",
   "execution_count": 4,
   "metadata": {},
   "outputs": [],
   "source": [
    "combine_dummies(full_bond_forces, geometry_filename, \"bond\")\n",
    "combine_dummies(full_angle_forces, geometry_filename, \"angle\")\n",
    "combine_dummies(full_dihedral_forces, geometry_filename, \"dihedral\")"
   ]
  },
  {
   "cell_type": "code",
   "execution_count": 5,
   "metadata": {},
   "outputs": [],
   "source": [
    "full_atom_forces = []\n",
    "for file in os.listdir('dummies'):\n",
    "    if file.endswith(\".out\"):\n",
    "        a = map_atom_forces(geometry_filename, file)\n",
    "        for line in a:\n",
    "            full_atom_forces.append(line)"
   ]
  },
  {
   "cell_type": "code",
   "execution_count": 6,
   "metadata": {},
   "outputs": [],
   "source": [
    "atom_coords = load_geometry(geometry_filename)"
   ]
  },
  {
   "cell_type": "code",
   "execution_count": 7,
   "metadata": {},
   "outputs": [],
   "source": [
    "combined_atom_forces = []\n",
    "for a in atom_coords:\n",
    "    force = [0,0,0]\n",
    "    for b in full_atom_forces:\n",
    "        if a[2] == b[2][0] and a[3] == b[2][1] and a[4] == b[2][2]:\n",
    "            force[0] += b[2][0]\n",
    "            force[1] += b[2][1]\n",
    "            force[2] += b[2][2]\n",
    "    combined_atom_forces.append([force, a[2:]])"
   ]
  },
  {
   "cell_type": "code",
   "execution_count": 8,
   "metadata": {},
   "outputs": [],
   "source": [
    "arrows = []\n",
    "for index, line in enumerate(combined_atom_forces):\n",
    "    arrows.append([((combined_atom_forces[index][0][0]**2)+(combined_atom_forces[index][0][1])**2+(combined_atom_forces[index][0][2])**2)])\n",
    "    arrows[index].append(combined_atom_forces[index][1])\n",
    "    arrows[index].append(combined_atom_forces[index][0])"
   ]
  },
  {
   "cell_type": "code",
   "execution_count": 9,
   "metadata": {},
   "outputs": [],
   "source": [
    "norm_arrows = normalize(arrows)"
   ]
  },
  {
   "cell_type": "code",
   "execution_count": 10,
   "metadata": {},
   "outputs": [],
   "source": [
    "vmd_vector_writer(\"test.tcl\", norm_arrows, geometry_filename)"
   ]
  },
  {
   "cell_type": "code",
   "execution_count": null,
   "metadata": {},
   "outputs": [],
   "source": []
  }
 ],
 "metadata": {
  "kernelspec": {
   "display_name": "Python 3",
   "language": "python",
   "name": "python3"
  },
  "language_info": {
   "codemirror_mode": {
    "name": "ipython",
    "version": 3
   },
   "file_extension": ".py",
   "mimetype": "text/x-python",
   "name": "python",
   "nbconvert_exporter": "python",
   "pygments_lexer": "ipython3",
   "version": "3.6.4"
  }
 },
 "nbformat": 4,
 "nbformat_minor": 2
}
