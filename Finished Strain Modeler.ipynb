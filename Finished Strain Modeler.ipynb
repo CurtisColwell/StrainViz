{
 "cells": [
  {
   "cell_type": "markdown",
   "metadata": {},
   "source": [
    "This notebook will be converted into a distributable python script. The script will exist in a distributable file package with the following architecture:\n",
    "\n",
    "```\n",
    "Strain_modeler/  \n",
    "|-- project1/  \n",
    "    |-- geometry/  \n",
    "    |-- dummies/\n",
    "    |-- output/  \n",
    "|-- scripts/\n",
    "|-- README.md\n",
    "```\n",
    "\n",
    "1. The user will create a project folder, add a .xyz geometry of the optimized strained molecule, and as many .out gaussian output files from force calculations as necessary into the input folder.\n",
    "2. A script will compile and average all of the .out files to create .tcl scripts in the output folder.\n",
    "3. The user can then load the .xyz geometry into VMD and run the .tcl scripts to visualize each type of molecular strain."
   ]
  },
  {
   "cell_type": "code",
   "execution_count": 1,
   "metadata": {},
   "outputs": [],
   "source": [
    "from scripts import map_forces\n",
    "import os"
   ]
  },
  {
   "cell_type": "code",
   "execution_count": 2,
   "metadata": {},
   "outputs": [],
   "source": [
    "for file in os.listdir('geometry'):\n",
    "    if file.endswith(\".xyz\"):\n",
    "        geometry_filename = 'geometry/' + file"
   ]
  },
  {
   "cell_type": "code",
   "execution_count": 4,
   "metadata": {},
   "outputs": [],
   "source": [
    "for file in os.listdir('dummies'):\n",
    "    if file.endswith(\".out\"):\n",
    "        map_forces(geometry_filename, file)"
   ]
  },
  {
   "cell_type": "code",
   "execution_count": null,
   "metadata": {},
   "outputs": [],
   "source": []
  }
 ],
 "metadata": {
  "kernelspec": {
   "display_name": "Python 3",
   "language": "python",
   "name": "python3"
  },
  "language_info": {
   "codemirror_mode": {
    "name": "ipython",
    "version": 3
   },
   "file_extension": ".py",
   "mimetype": "text/x-python",
   "name": "python",
   "nbconvert_exporter": "python",
   "pygments_lexer": "ipython3",
   "version": "3.6.4"
  }
 },
 "nbformat": 4,
 "nbformat_minor": 2
}
