{
 "cells": [
  {
   "cell_type": "markdown",
   "metadata": {},
   "source": [
    "This notebook will be converted into a distributable python script. The script will exist in a distributable file package with the following architecture:\n",
    "\n",
    "```\n",
    "Strain_modeler/   \n",
    "|-- geometry/  \n",
    "|-- dummies/\n",
    "|-- output/  \n",
    "|-- scripts.py\n",
    "|-- README.md\n",
    "```\n",
    "\n",
    "1. The user will create a geometry folder, add a .xyz geometry of the optimized strained molecule, and as many .out gaussian output files from force calculations as necessary into the dummies folder.\n",
    "2. A script will compile and average all of the .out files to create .tcl scripts in the output folder.\n",
    "3. The user can then run the .tcl scripts in VMD to visualize each type of molecular strain."
   ]
  },
  {
   "cell_type": "code",
   "execution_count": 1,
   "metadata": {},
   "outputs": [],
   "source": [
    "from scripts import *\n",
    "from bond_scripts import *\n",
    "from atom_scripts import *\n",
    "import os"
   ]
  },
  {
   "cell_type": "code",
   "execution_count": 2,
   "metadata": {},
   "outputs": [],
   "source": [
    "for file in os.listdir('geometry'):\n",
    "    if file.endswith(\".xyz\"):\n",
    "        geometry_filename = 'geometry/' + file"
   ]
  },
  {
   "cell_type": "code",
   "execution_count": 3,
   "metadata": {
    "scrolled": false
   },
   "outputs": [],
   "source": [
    "full_bond_forces = []\n",
    "full_angle_forces = []\n",
    "full_dihedral_forces = []\n",
    "full_key = []\n",
    "for file in os.listdir('dummies'):\n",
    "    if file.endswith(\".out\"):\n",
    "        a, b, c = map_forces(geometry_filename, file)\n",
    "        for line in a:\n",
    "            full_bond_forces.append(line)\n",
    "        for line in b:\n",
    "            full_angle_forces.append(line)\n",
    "        for line in c:\n",
    "            full_dihedral_forces.append(line)"
   ]
  },
  {
   "cell_type": "code",
   "execution_count": 4,
   "metadata": {},
   "outputs": [],
   "source": [
    "combine_dummies(full_bond_forces, geometry_filename, \"bond\")\n",
    "combine_dummies(full_angle_forces, geometry_filename, \"angle\")\n",
    "combine_dummies(full_dihedral_forces, geometry_filename, \"dihedral\")"
   ]
  },
  {
   "cell_type": "code",
   "execution_count": 5,
   "metadata": {},
   "outputs": [],
   "source": [
    "full_atom_forces = []\n",
    "for file in os.listdir('dummies'):\n",
    "    if file.endswith(\".out\"):\n",
    "        a = map_atom_forces(geometry_filename, file)\n",
    "        for line in a:\n",
    "            full_atom_forces.append(line)"
   ]
  },
  {
   "cell_type": "code",
   "execution_count": 6,
   "metadata": {},
   "outputs": [],
   "source": [
    "combine_dummy_arrows(geometry_filename, full_atom_forces)"
   ]
  }
 ],
 "metadata": {
  "kernelspec": {
   "display_name": "Python 3",
   "language": "python",
   "name": "python3"
  },
  "language_info": {
   "codemirror_mode": {
    "name": "ipython",
    "version": 3
   },
   "file_extension": ".py",
   "mimetype": "text/x-python",
   "name": "python",
   "nbconvert_exporter": "python",
   "pygments_lexer": "ipython3",
   "version": "3.6.4"
  }
 },
 "nbformat": 4,
 "nbformat_minor": 2
}
